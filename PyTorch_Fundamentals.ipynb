{
  "nbformat": 4,
  "nbformat_minor": 0,
  "metadata": {
    "colab": {
      "provenance": [],
      "gpuType": "T4",
      "authorship_tag": "ABX9TyOeigDeBT7H24HzMx9LLCN0",
      "include_colab_link": true
    },
    "kernelspec": {
      "name": "python3",
      "display_name": "Python 3"
    },
    "language_info": {
      "name": "python"
    },
    "accelerator": "GPU"
  },
  "cells": [
    {
      "cell_type": "markdown",
      "metadata": {
        "id": "view-in-github",
        "colab_type": "text"
      },
      "source": [
        "<a href=\"https://colab.research.google.com/github/tibalesut/test_2/blob/main/PyTorch_Fundamentals.ipynb\" target=\"_parent\"><img src=\"https://colab.research.google.com/assets/colab-badge.svg\" alt=\"Open In Colab\"/></a>"
      ]
    },
    {
      "cell_type": "code",
      "execution_count": 3,
      "metadata": {
        "colab": {
          "base_uri": "https://localhost:8080/"
        },
        "id": "_Ndjt24OBx8J",
        "outputId": "4960f1d3-711c-430e-f519-0d92027977ea"
      },
      "outputs": [
        {
          "output_type": "stream",
          "name": "stdout",
          "text": [
            "/bin/bash: line 1: nvidia-smi: command not found\n"
          ]
        }
      ],
      "source": [
        "!nvidia-smi"
      ]
    },
    {
      "cell_type": "code",
      "source": [
        "import torch"
      ],
      "metadata": {
        "id": "_CMjxS-7CCYA"
      },
      "execution_count": 4,
      "outputs": []
    },
    {
      "cell_type": "code",
      "source": [],
      "metadata": {
        "id": "vUO1gLstCUaw"
      },
      "execution_count": 4,
      "outputs": []
    },
    {
      "cell_type": "markdown",
      "source": [
        "## Reshaping, stacking, queezing and unsqueezing tensors\n",
        "\n",
        "* Reshaping - reshapes an input tensor to a defined shape\n",
        "* View - return a view of an input tensor of a certain shape but keep the same memory as the original tensor\n",
        "* Stacking - combine multiple tensors on top of each other, V or H stack\n",
        "* Squeeze - whch removes all '1' dimensions from a tensor\n",
        "* Unsqueeze -add a '1' diminesion to a traget tensor\n",
        "* Permute - return a view of the imput with dimensions permuted (swapped) in a certain way.\n"
      ],
      "metadata": {
        "id": "oBxSeU13C8N9"
      }
    },
    {
      "cell_type": "code",
      "source": [
        "# Let's create a tensor\n",
        "x = torch.arange(1., 10.)\n",
        "x, x.shape"
      ],
      "metadata": {
        "colab": {
          "base_uri": "https://localhost:8080/"
        },
        "id": "4j6ZyYi7EAV4",
        "outputId": "4ffd7499-d0f3-4243-edb0-55aff722263e"
      },
      "execution_count": 5,
      "outputs": [
        {
          "output_type": "execute_result",
          "data": {
            "text/plain": [
              "(tensor([1., 2., 3., 4., 5., 6., 7., 8., 9.]), torch.Size([9]))"
            ]
          },
          "metadata": {},
          "execution_count": 5
        }
      ]
    },
    {
      "cell_type": "code",
      "source": [
        "# Add an extra dimension, reshape has to be compatible with the original size\n",
        "# x_reshaped = x.reshape(1, 7)  # invalid because squeeze 9 element into 7\n",
        "# x_reshaped = x.reshape(2, 9)  # invalid because because 2 times 9 is 18, we trying to double the number of elements\n",
        "x_reshaped = x.reshape(9, 1)\n",
        "x_reshaped, x_reshaped.shape"
      ],
      "metadata": {
        "colab": {
          "base_uri": "https://localhost:8080/"
        },
        "id": "RqqiLKlwEQBK",
        "outputId": "d304635f-055e-4736-b415-272eb1708ee5"
      },
      "execution_count": 6,
      "outputs": [
        {
          "output_type": "execute_result",
          "data": {
            "text/plain": [
              "(tensor([[1.],\n",
              "         [2.],\n",
              "         [3.],\n",
              "         [4.],\n",
              "         [5.],\n",
              "         [6.],\n",
              "         [7.],\n",
              "         [8.],\n",
              "         [9.]]),\n",
              " torch.Size([9, 1]))"
            ]
          },
          "metadata": {},
          "execution_count": 6
        }
      ]
    },
    {
      "cell_type": "code",
      "source": [
        "x_reshaped = x.reshape(1,9)\n",
        "x_reshaped, x_reshaped.shape"
      ],
      "metadata": {
        "colab": {
          "base_uri": "https://localhost:8080/"
        },
        "id": "rozOrNWpGDdN",
        "outputId": "dc4cdbcb-53a0-4b54-d265-214a019c93cd"
      },
      "execution_count": 7,
      "outputs": [
        {
          "output_type": "execute_result",
          "data": {
            "text/plain": [
              "(tensor([[1., 2., 3., 4., 5., 6., 7., 8., 9.]]), torch.Size([1, 9]))"
            ]
          },
          "metadata": {},
          "execution_count": 7
        }
      ]
    },
    {
      "cell_type": "code",
      "source": [
        "# change the view\n",
        "z = x.view(1, 9)  # shares the memory of the original tensor\n",
        "z, z.shape"
      ],
      "metadata": {
        "colab": {
          "base_uri": "https://localhost:8080/"
        },
        "id": "r65dSkOOGr-C",
        "outputId": "0932b5e3-8e15-4fb6-c294-43ef60c9e914"
      },
      "execution_count": 8,
      "outputs": [
        {
          "output_type": "execute_result",
          "data": {
            "text/plain": [
              "(tensor([[1., 2., 3., 4., 5., 6., 7., 8., 9.]]), torch.Size([1, 9]))"
            ]
          },
          "metadata": {},
          "execution_count": 8
        }
      ]
    },
    {
      "cell_type": "code",
      "source": [
        "# Changing z changes x (a view of a tensor shares the same memory as the original)\n",
        "z[:, 0] = 5\n",
        "z, x"
      ],
      "metadata": {
        "colab": {
          "base_uri": "https://localhost:8080/"
        },
        "id": "t6Lq5505HAo0",
        "outputId": "773899de-cd46-4965-864e-ceb635805552"
      },
      "execution_count": 9,
      "outputs": [
        {
          "output_type": "execute_result",
          "data": {
            "text/plain": [
              "(tensor([[5., 2., 3., 4., 5., 6., 7., 8., 9.]]),\n",
              " tensor([5., 2., 3., 4., 5., 6., 7., 8., 9.]))"
            ]
          },
          "metadata": {},
          "execution_count": 9
        }
      ]
    },
    {
      "cell_type": "code",
      "source": [
        "# stack tensor on top of each other\n",
        "x_stacked = torch.stack([x, x, x, x], dim=0)\n",
        "x_stacked, x_stacked.shape  # stacks verticaly"
      ],
      "metadata": {
        "colab": {
          "base_uri": "https://localhost:8080/"
        },
        "id": "3dR4Pw54HS56",
        "outputId": "89c8cccc-54ab-44fe-f269-4597f1aadfac"
      },
      "execution_count": 10,
      "outputs": [
        {
          "output_type": "execute_result",
          "data": {
            "text/plain": [
              "(tensor([[5., 2., 3., 4., 5., 6., 7., 8., 9.],\n",
              "         [5., 2., 3., 4., 5., 6., 7., 8., 9.],\n",
              "         [5., 2., 3., 4., 5., 6., 7., 8., 9.],\n",
              "         [5., 2., 3., 4., 5., 6., 7., 8., 9.]]),\n",
              " torch.Size([4, 9]))"
            ]
          },
          "metadata": {},
          "execution_count": 10
        }
      ]
    },
    {
      "cell_type": "code",
      "source": [
        "# stack tensor on top of each other\n",
        "x_stacked = torch.stack([x, x, x, x], dim=1)\n",
        "x_stacked, x_stacked.shape  # stacks horizontaly"
      ],
      "metadata": {
        "colab": {
          "base_uri": "https://localhost:8080/"
        },
        "id": "fHMUF48JHtNN",
        "outputId": "68f4a745-2ee4-443f-b5ed-ab80ce46081e"
      },
      "execution_count": 11,
      "outputs": [
        {
          "output_type": "execute_result",
          "data": {
            "text/plain": [
              "(tensor([[5., 5., 5., 5.],\n",
              "         [2., 2., 2., 2.],\n",
              "         [3., 3., 3., 3.],\n",
              "         [4., 4., 4., 4.],\n",
              "         [5., 5., 5., 5.],\n",
              "         [6., 6., 6., 6.],\n",
              "         [7., 7., 7., 7.],\n",
              "         [8., 8., 8., 8.],\n",
              "         [9., 9., 9., 9.]]),\n",
              " torch.Size([9, 4]))"
            ]
          },
          "metadata": {},
          "execution_count": 11
        }
      ]
    },
    {
      "cell_type": "code",
      "source": [
        "# torch.squeeze) - remove all single dimensions from a traget sensor\n",
        "x_reshaped"
      ],
      "metadata": {
        "colab": {
          "base_uri": "https://localhost:8080/"
        },
        "id": "C6R8-2CPRUYn",
        "outputId": "f22e6eee-4d6d-4a68-f28d-8cc62beddc7f"
      },
      "execution_count": 12,
      "outputs": [
        {
          "output_type": "execute_result",
          "data": {
            "text/plain": [
              "tensor([[5., 2., 3., 4., 5., 6., 7., 8., 9.]])"
            ]
          },
          "metadata": {},
          "execution_count": 12
        }
      ]
    },
    {
      "cell_type": "code",
      "source": [
        "x_reshaped.shape"
      ],
      "metadata": {
        "colab": {
          "base_uri": "https://localhost:8080/"
        },
        "id": "CcoJBsqnRdvb",
        "outputId": "8278450d-0253-40b4-9085-5ca78c6b397e"
      },
      "execution_count": 13,
      "outputs": [
        {
          "output_type": "execute_result",
          "data": {
            "text/plain": [
              "torch.Size([1, 9])"
            ]
          },
          "metadata": {},
          "execution_count": 13
        }
      ]
    },
    {
      "cell_type": "code",
      "source": [
        "x_reshaped.squeeze()"
      ],
      "metadata": {
        "colab": {
          "base_uri": "https://localhost:8080/"
        },
        "id": "Uboqo3HZRizJ",
        "outputId": "98a1c99c-6812-48fd-ae72-e5ccdac64064"
      },
      "execution_count": 14,
      "outputs": [
        {
          "output_type": "execute_result",
          "data": {
            "text/plain": [
              "tensor([5., 2., 3., 4., 5., 6., 7., 8., 9.])"
            ]
          },
          "metadata": {},
          "execution_count": 14
        }
      ]
    },
    {
      "cell_type": "code",
      "source": [
        "x_reshaped.squeeze().shape  # 9"
      ],
      "metadata": {
        "colab": {
          "base_uri": "https://localhost:8080/"
        },
        "id": "IAsxVdBfRwh1",
        "outputId": "fd5cd91d-9e96-4fd5-bf5c-fb4b33314211"
      },
      "execution_count": 15,
      "outputs": [
        {
          "output_type": "execute_result",
          "data": {
            "text/plain": [
              "torch.Size([9])"
            ]
          },
          "metadata": {},
          "execution_count": 15
        }
      ]
    },
    {
      "cell_type": "code",
      "source": [
        "x_squeezed = x_reshaped.squeeze()"
      ],
      "metadata": {
        "id": "VD_xqiTYSqkv"
      },
      "execution_count": 16,
      "outputs": []
    },
    {
      "cell_type": "code",
      "source": [
        "# torch.unqueeze() - adds a single dimension to a target tensor at a specific dimension\n",
        "print(f\"Previous target: {x_squeezed}\")\n",
        "print(f\"Previous shape: {x_squeezed.shape}\")\n",
        "\n",
        "# add an extra dimension with unsqueeze\n",
        "x_unqueezed = x_squeezed.unsqueeze(dim=0)\n",
        "print(f\"\\nNew tensor: {x_unqueezed}\")\n",
        "print(f\"New tensor shape: {x_unqueezed.shape}\")"
      ],
      "metadata": {
        "colab": {
          "base_uri": "https://localhost:8080/"
        },
        "id": "FtRG7zSJSF4I",
        "outputId": "713ce83d-6f87-40cb-b6c9-7b1266e83dae"
      },
      "execution_count": 17,
      "outputs": [
        {
          "output_type": "stream",
          "name": "stdout",
          "text": [
            "Previous target: tensor([5., 2., 3., 4., 5., 6., 7., 8., 9.])\n",
            "Previous shape: torch.Size([9])\n",
            "\n",
            "New tensor: tensor([[5., 2., 3., 4., 5., 6., 7., 8., 9.]])\n",
            "New tensor shape: torch.Size([1, 9])\n"
          ]
        }
      ]
    },
    {
      "cell_type": "code",
      "source": [
        "# torch.permute - rearranges the dimension of a target tensor in a specified order\n",
        "x = torch.rand(2, 3, 5)  # two items with 3 rows and 5 columns\n",
        "x.size()"
      ],
      "metadata": {
        "colab": {
          "base_uri": "https://localhost:8080/"
        },
        "id": "3Z2dsAarT1n3",
        "outputId": "70ec31dd-fdfa-48fa-b3bf-90c81147717d"
      },
      "execution_count": 18,
      "outputs": [
        {
          "output_type": "execute_result",
          "data": {
            "text/plain": [
              "torch.Size([2, 3, 5])"
            ]
          },
          "metadata": {},
          "execution_count": 18
        }
      ]
    },
    {
      "cell_type": "code",
      "source": [
        "x"
      ],
      "metadata": {
        "colab": {
          "base_uri": "https://localhost:8080/"
        },
        "id": "PMby5Is1URJt",
        "outputId": "2c77d049-b9b3-45cb-c777-1376ca781948"
      },
      "execution_count": 19,
      "outputs": [
        {
          "output_type": "execute_result",
          "data": {
            "text/plain": [
              "tensor([[[0.7843, 0.9412, 0.4005, 0.9295, 0.8085],\n",
              "         [0.1132, 0.5702, 0.9683, 0.1731, 0.1961],\n",
              "         [0.9818, 0.3825, 0.5348, 0.5173, 0.5486]],\n",
              "\n",
              "        [[0.4139, 0.8330, 0.3702, 0.4370, 0.4358],\n",
              "         [0.6797, 0.7404, 0.8001, 0.8361, 0.6210],\n",
              "         [0.0085, 0.4484, 0.9163, 0.1090, 0.7910]]])"
            ]
          },
          "metadata": {},
          "execution_count": 19
        }
      ]
    },
    {
      "cell_type": "code",
      "source": [
        "torch.permute(x, (2, 0, 1)).size()  # reverses the shape"
      ],
      "metadata": {
        "colab": {
          "base_uri": "https://localhost:8080/"
        },
        "id": "oKaV1A-vUcto",
        "outputId": "66d7384c-83d4-4816-d7fe-63e493846e68"
      },
      "execution_count": 24,
      "outputs": [
        {
          "output_type": "execute_result",
          "data": {
            "text/plain": [
              "torch.Size([5, 2, 3])"
            ]
          },
          "metadata": {},
          "execution_count": 24
        }
      ]
    },
    {
      "cell_type": "code",
      "source": [
        "y = torch.permute(x, (2, 0, 1))  # 5 items with 3 columns and two rows"
      ],
      "metadata": {
        "id": "yzF2p3LkU2WX"
      },
      "execution_count": 30,
      "outputs": []
    },
    {
      "cell_type": "code",
      "source": [
        "y"
      ],
      "metadata": {
        "colab": {
          "base_uri": "https://localhost:8080/"
        },
        "id": "YxRlv4ArUsmZ",
        "outputId": "8b4bb45f-1516-4ed7-e24a-c3ba27dd664f"
      },
      "execution_count": 31,
      "outputs": [
        {
          "output_type": "execute_result",
          "data": {
            "text/plain": [
              "tensor([[[0.7843, 0.1132, 0.9818],\n",
              "         [0.4139, 0.6797, 0.0085]],\n",
              "\n",
              "        [[0.9412, 0.5702, 0.3825],\n",
              "         [0.8330, 0.7404, 0.4484]],\n",
              "\n",
              "        [[0.4005, 0.9683, 0.5348],\n",
              "         [0.3702, 0.8001, 0.9163]],\n",
              "\n",
              "        [[0.9295, 0.1731, 0.5173],\n",
              "         [0.4370, 0.8361, 0.1090]],\n",
              "\n",
              "        [[0.8085, 0.1961, 0.5486],\n",
              "         [0.4358, 0.6210, 0.7910]]])"
            ]
          },
          "metadata": {},
          "execution_count": 31
        }
      ]
    },
    {
      "cell_type": "code",
      "source": [
        "# permute works with images (is a view)\n",
        "x_original = torch.rand(size=(224, 224, 3)) # [height, width, color channels]\n",
        "\n",
        "# Permute the original tensor to rearange the axis (or dim) order\n",
        "# rearrange sothe color channels are the first dimension {color channels, height, width]\n",
        "\n",
        "x_permuted = x_original.permute(2, 0, 1) # rearanges the dim, those are the arguments\n",
        "# shifts axis 0-> 1, 1 -> 2, 2 -> 0\n",
        "print(f\"Previous shape: {x_original.shape}\")\n",
        "print(f\"new shape: {x_permuted.shape}\")  # items, columns,rows (n by m) is rows, columns in math"
      ],
      "metadata": {
        "colab": {
          "base_uri": "https://localhost:8080/"
        },
        "id": "-nQHodRdVtQy",
        "outputId": "9386e593-0b39-495c-ed9e-87964fad643e"
      },
      "execution_count": 33,
      "outputs": [
        {
          "output_type": "stream",
          "name": "stdout",
          "text": [
            "Previous shape: torch.Size([224, 224, 3])\n",
            "new shape: torch.Size([3, 224, 224])\n"
          ]
        }
      ]
    },
    {
      "cell_type": "code",
      "source": [
        "x_permuted"
      ],
      "metadata": {
        "colab": {
          "base_uri": "https://localhost:8080/"
        },
        "id": "N0qOCPYyXqAb",
        "outputId": "86143dad-9fb3-4261-cb64-413669f247fb"
      },
      "execution_count": 34,
      "outputs": [
        {
          "output_type": "execute_result",
          "data": {
            "text/plain": [
              "tensor([[[0.7901, 0.4577, 0.6941,  ..., 0.7999, 0.5791, 0.9623],\n",
              "         [0.5891, 0.0187, 0.8582,  ..., 0.9724, 0.3302, 0.2796],\n",
              "         [0.7690, 0.3082, 0.4854,  ..., 0.4823, 0.4991, 0.6693],\n",
              "         ...,\n",
              "         [0.2126, 0.8303, 0.8626,  ..., 0.3252, 0.5814, 0.1375],\n",
              "         [0.1014, 0.2309, 0.7725,  ..., 0.8143, 0.0310, 0.4383],\n",
              "         [0.1124, 0.4552, 0.2820,  ..., 0.9294, 0.6917, 0.9826]],\n",
              "\n",
              "        [[0.1862, 0.9331, 0.8129,  ..., 0.1775, 0.7915, 0.8737],\n",
              "         [0.2850, 0.7594, 0.2811,  ..., 0.8469, 0.6922, 0.2751],\n",
              "         [0.0131, 0.7044, 0.6014,  ..., 0.8677, 0.3876, 0.0856],\n",
              "         ...,\n",
              "         [0.5778, 0.7835, 0.9141,  ..., 0.3719, 0.3910, 0.6670],\n",
              "         [0.9487, 0.6082, 0.6187,  ..., 0.3741, 0.3181, 0.5052],\n",
              "         [0.2544, 0.1610, 0.7352,  ..., 0.6313, 0.5871, 0.7797]],\n",
              "\n",
              "        [[0.1271, 0.1193, 0.2388,  ..., 0.1161, 0.8497, 0.3819],\n",
              "         [0.3468, 0.8135, 0.2290,  ..., 0.2124, 0.7016, 0.7077],\n",
              "         [0.8937, 0.2884, 0.4305,  ..., 0.5045, 0.3766, 0.5582],\n",
              "         ...,\n",
              "         [0.1713, 0.6829, 0.9854,  ..., 0.0394, 0.2613, 0.4577],\n",
              "         [0.8059, 0.6609, 0.5710,  ..., 0.9753, 0.7259, 0.4139],\n",
              "         [0.7614, 0.6973, 0.7937,  ..., 0.7628, 0.8145, 0.9612]]])"
            ]
          },
          "metadata": {},
          "execution_count": 34
        }
      ]
    },
    {
      "cell_type": "markdown",
      "source": [
        "## Indexing (selecting data from tensors with indexing)\n",
        "Indexing with PyTorch is similar to indexing with NumPy\n"
      ],
      "metadata": {
        "id": "PiFE9wRmYs8c"
      }
    },
    {
      "cell_type": "code",
      "source": [
        "# cretae a tensor\n",
        "import torch\n",
        "x = torch.arange(1, 10).reshape(1, 3, 3)  # 1 * 3 * 3 = 9\n",
        "x, x.shape"
      ],
      "metadata": {
        "colab": {
          "base_uri": "https://localhost:8080/"
        },
        "id": "6NBoeMxAZBpU",
        "outputId": "277a335f-6e34-4680-a74b-390074e3da13"
      },
      "execution_count": 36,
      "outputs": [
        {
          "output_type": "execute_result",
          "data": {
            "text/plain": [
              "(tensor([[[1, 2, 3],\n",
              "          [4, 5, 6],\n",
              "          [7, 8, 9]]]),\n",
              " torch.Size([1, 3, 3]))"
            ]
          },
          "metadata": {},
          "execution_count": 36
        }
      ]
    },
    {
      "cell_type": "code",
      "source": [
        "# let' index on new tensor, dim=0 is all\n",
        "x[0]"
      ],
      "metadata": {
        "colab": {
          "base_uri": "https://localhost:8080/"
        },
        "id": "oMMbZc6FZj69",
        "outputId": "fa33f595-9fde-4fd6-b5ce-2a64cb9fac43"
      },
      "execution_count": 39,
      "outputs": [
        {
          "output_type": "execute_result",
          "data": {
            "text/plain": [
              "tensor([[1, 2, 3],\n",
              "        [4, 5, 6],\n",
              "        [7, 8, 9]])"
            ]
          },
          "metadata": {},
          "execution_count": 39
        }
      ]
    },
    {
      "cell_type": "code",
      "source": [
        "# index on middle bracket (dim=1)\n",
        "x[0][1]\n"
      ],
      "metadata": {
        "colab": {
          "base_uri": "https://localhost:8080/"
        },
        "id": "ML1CcTd6ZrEv",
        "outputId": "46068b48-b195-499a-8e3f-34df4a1834ee"
      },
      "execution_count": 40,
      "outputs": [
        {
          "output_type": "execute_result",
          "data": {
            "text/plain": [
              "tensor([4, 5, 6])"
            ]
          },
          "metadata": {},
          "execution_count": 40
        }
      ]
    },
    {
      "cell_type": "code",
      "source": [
        "# index on the most inner bracket\n",
        "x[0][0][0]"
      ],
      "metadata": {
        "colab": {
          "base_uri": "https://localhost:8080/"
        },
        "id": "o73kisNhaejt",
        "outputId": "311a9b61-042f-4dbd-bf60-4c0d63e0bdc6"
      },
      "execution_count": 41,
      "outputs": [
        {
          "output_type": "execute_result",
          "data": {
            "text/plain": [
              "tensor(1)"
            ]
          },
          "metadata": {},
          "execution_count": 41
        }
      ]
    },
    {
      "cell_type": "code",
      "source": [
        "# get number 9\n",
        "x[0][2][2]\n"
      ],
      "metadata": {
        "colab": {
          "base_uri": "https://localhost:8080/"
        },
        "id": "NsqulWCpa0ei",
        "outputId": "57e7f804-1bb9-42eb-964f-251d840a7d39"
      },
      "execution_count": 47,
      "outputs": [
        {
          "output_type": "execute_result",
          "data": {
            "text/plain": [
              "tensor(9)"
            ]
          },
          "metadata": {},
          "execution_count": 47
        }
      ]
    },
    {
      "cell_type": "code",
      "source": [
        "# you can use also use \":\" to select all of a target dimension\n",
        "x[:, 0]  # get all of the zero dimension and the all of the first item"
      ],
      "metadata": {
        "colab": {
          "base_uri": "https://localhost:8080/"
        },
        "id": "GBPZXVX3a_cO",
        "outputId": "8dd9878b-d87b-4019-ef68-d8d8c5348357"
      },
      "execution_count": 48,
      "outputs": [
        {
          "output_type": "execute_result",
          "data": {
            "text/plain": [
              "tensor([[1, 2, 3]])"
            ]
          },
          "metadata": {},
          "execution_count": 48
        }
      ]
    },
    {
      "cell_type": "code",
      "source": [
        "# get all values of the zero and first dimension but only index 1 of the second dimension\n",
        "x[:, :, 1]"
      ],
      "metadata": {
        "colab": {
          "base_uri": "https://localhost:8080/"
        },
        "id": "X4oz0eVvbUTv",
        "outputId": "d98f94dd-967b-4db6-aa3b-2d712a4ba44a"
      },
      "execution_count": 49,
      "outputs": [
        {
          "output_type": "execute_result",
          "data": {
            "text/plain": [
              "tensor([[2, 5, 8]])"
            ]
          },
          "metadata": {},
          "execution_count": 49
        }
      ]
    },
    {
      "cell_type": "code",
      "source": [
        "# get all values of the zero dimension but only the 1 index value of 1st and 2nd dimension\n",
        "x[:, 1, 1]"
      ],
      "metadata": {
        "colab": {
          "base_uri": "https://localhost:8080/"
        },
        "id": "MnCOJdmQcAYe",
        "outputId": "d9c54096-03ee-4209-ca69-a4fc08d9c6fc"
      },
      "execution_count": 50,
      "outputs": [
        {
          "output_type": "execute_result",
          "data": {
            "text/plain": [
              "tensor([5])"
            ]
          },
          "metadata": {},
          "execution_count": 50
        }
      ]
    },
    {
      "cell_type": "code",
      "source": [
        "# get index 0 of 0th and 1st dimension and all values of second dimension\n",
        "x[0, 0, :]"
      ],
      "metadata": {
        "colab": {
          "base_uri": "https://localhost:8080/"
        },
        "id": "0xyphM9AcuU3",
        "outputId": "da56d28d-e940-4e76-cc96-7743cfbb172b"
      },
      "execution_count": 51,
      "outputs": [
        {
          "output_type": "execute_result",
          "data": {
            "text/plain": [
              "tensor([1, 2, 3])"
            ]
          },
          "metadata": {},
          "execution_count": 51
        }
      ]
    },
    {
      "cell_type": "code",
      "source": [
        "# Index to return 9\n",
        "print(x[:, 2, 2])\n",
        "# index to return 3,6,9\n",
        "print(x[:,:, 2])  # this is chained -> select all, get all of the inner items, select second column only"
      ],
      "metadata": {
        "colab": {
          "base_uri": "https://localhost:8080/"
        },
        "id": "8SH7SnkNdP21",
        "outputId": "482bad0b-2684-4041-9f60-fffa9c1c604b"
      },
      "execution_count": 57,
      "outputs": [
        {
          "output_type": "stream",
          "name": "stdout",
          "text": [
            "tensor([9])\n",
            "tensor([[3, 6, 9]])\n"
          ]
        }
      ]
    },
    {
      "cell_type": "markdown",
      "source": [
        "## PyTorch tensors and NumPy\n",
        "\n",
        "NumPy is a popular scientific python (included in PyTorch) numericalcomputing library\n",
        "\n",
        "Add because of this PyTorch has functionality to interact with it.\n",
        "\n",
        "* Data in NumPy, want in PyTorch tensor -> 'torch.form_numpy(ndarray)'\n",
        "* PyTorch tensor -> NumPy -> 'torch.Tensor.numpy()'"
      ],
      "metadata": {
        "id": "1xYRSZQHevNB"
      }
    },
    {
      "cell_type": "code",
      "source": [
        "# NumPy array to tensor\n",
        "import torch\n",
        "import numpy as np\n",
        "array = np.arange(1.0, 8.0)  # default data type is float64\n",
        "tensor = torch.from_numpy(array).type(torch.float32)  # change from float64 to float32\n",
        "array, tensor"
      ],
      "metadata": {
        "colab": {
          "base_uri": "https://localhost:8080/"
        },
        "id": "fR54ilbgfDJi",
        "outputId": "351fb524-d6b3-4300-d426-c87302df2c68"
      },
      "execution_count": 62,
      "outputs": [
        {
          "output_type": "execute_result",
          "data": {
            "text/plain": [
              "(array([1., 2., 3., 4., 5., 6., 7.]), tensor([1., 2., 3., 4., 5., 6., 7.]))"
            ]
          },
          "metadata": {},
          "execution_count": 62
        }
      ]
    },
    {
      "cell_type": "code",
      "source": [
        "array.dtype"
      ],
      "metadata": {
        "colab": {
          "base_uri": "https://localhost:8080/"
        },
        "id": "1-Q_wNCmgJX6",
        "outputId": "14adacff-3ac9-4745-a291-060fbdb651e8"
      },
      "execution_count": 63,
      "outputs": [
        {
          "output_type": "execute_result",
          "data": {
            "text/plain": [
              "dtype('float64')"
            ]
          },
          "metadata": {},
          "execution_count": 63
        }
      ]
    },
    {
      "cell_type": "code",
      "source": [
        "tensor.dtype"
      ],
      "metadata": {
        "colab": {
          "base_uri": "https://localhost:8080/"
        },
        "id": "aHIBtCbGhA90",
        "outputId": "e9d89429-2621-43bb-cc82-d2646b9b4e05"
      },
      "execution_count": 65,
      "outputs": [
        {
          "output_type": "execute_result",
          "data": {
            "text/plain": [
              "torch.float32"
            ]
          },
          "metadata": {},
          "execution_count": 65
        }
      ]
    },
    {
      "cell_type": "code",
      "source": [
        "torch.arange(1.0, 8.0).dtype  # default data type in float32"
      ],
      "metadata": {
        "colab": {
          "base_uri": "https://localhost:8080/"
        },
        "id": "Tw-SeKkJgXIz",
        "outputId": "226a0afa-4ef3-4e40-af44-40d5b6fbbaa6"
      },
      "execution_count": 64,
      "outputs": [
        {
          "output_type": "execute_result",
          "data": {
            "text/plain": [
              "torch.float32"
            ]
          },
          "metadata": {},
          "execution_count": 64
        }
      ]
    },
    {
      "cell_type": "code",
      "source": [
        "# changethe value of array\n",
        "array = array + 1  # add 1 to everyvalue in the array\n",
        "array"
      ],
      "metadata": {
        "colab": {
          "base_uri": "https://localhost:8080/"
        },
        "id": "_QTZ3-7Gg96c",
        "outputId": "f9d91a45-87ed-40fa-b5ee-c9deaf5127b0"
      },
      "execution_count": 67,
      "outputs": [
        {
          "output_type": "execute_result",
          "data": {
            "text/plain": [
              "array([3., 4., 5., 6., 7., 8., 9.])"
            ]
          },
          "metadata": {},
          "execution_count": 67
        }
      ]
    },
    {
      "cell_type": "code",
      "source": [
        "# tensor to numpy array\n",
        "tensor = torch.ones(7)\n",
        "tensor"
      ],
      "metadata": {
        "colab": {
          "base_uri": "https://localhost:8080/"
        },
        "id": "jH-ygXIlhjR8",
        "outputId": "be446451-ed0e-488f-e982-3559ce2e7850"
      },
      "execution_count": 68,
      "outputs": [
        {
          "output_type": "execute_result",
          "data": {
            "text/plain": [
              "tensor([1., 1., 1., 1., 1., 1., 1.])"
            ]
          },
          "metadata": {},
          "execution_count": 68
        }
      ]
    },
    {
      "cell_type": "code",
      "source": [
        "numpy_tensor = tensor.numpy()\n",
        "tensor, numpy_tensor"
      ],
      "metadata": {
        "colab": {
          "base_uri": "https://localhost:8080/"
        },
        "id": "M5HSAm7RhtVB",
        "outputId": "85fd99f4-b0dc-48b8-d1eb-99015fb7660a"
      },
      "execution_count": 69,
      "outputs": [
        {
          "output_type": "execute_result",
          "data": {
            "text/plain": [
              "(tensor([1., 1., 1., 1., 1., 1., 1.]),\n",
              " array([1., 1., 1., 1., 1., 1., 1.], dtype=float32))"
            ]
          },
          "metadata": {},
          "execution_count": 69
        }
      ]
    },
    {
      "cell_type": "markdown",
      "source": [
        "https://pytorch.org/tutorials/beginner/examples_tensor/polynomial_numpy.html"
      ],
      "metadata": {
        "id": "p4pwhKU7ii6h"
      }
    },
    {
      "cell_type": "code",
      "source": [
        "# change the tensor, what happens to 'numpt_tensor'?\n",
        "tensor = tensor + 1\n",
        "tensor, numpy_tensor  # they don't share memory"
      ],
      "metadata": {
        "colab": {
          "base_uri": "https://localhost:8080/"
        },
        "id": "ZdmTfPqBiD0P",
        "outputId": "36c546e2-57e6-4a9f-c93b-1eadd5db4384"
      },
      "execution_count": 70,
      "outputs": [
        {
          "output_type": "execute_result",
          "data": {
            "text/plain": [
              "(tensor([2., 2., 2., 2., 2., 2., 2.]),\n",
              " array([1., 1., 1., 1., 1., 1., 1.], dtype=float32))"
            ]
          },
          "metadata": {},
          "execution_count": 70
        }
      ]
    },
    {
      "cell_type": "markdown",
      "source": [],
      "metadata": {
        "id": "dwlSdLMuhPjx"
      }
    },
    {
      "cell_type": "markdown",
      "source": [
        "## Reproducability (trying to take the random out of random)\n",
        "\n",
        "In short how a neural network learns:\n",
        "\n",
        "'start with random numbers -> tensor operations -> update random numbers to try and make them better representations of the data -> again -> again -> again...'\n",
        "\n",
        "To reduce the randomness in neural networks and PyTorch comes the concept of a random seed.\n",
        "\n",
        "What the random seed does is flavor the randomness."
      ],
      "metadata": {
        "id": "9ACt12_-iqUg"
      }
    },
    {
      "cell_type": "code",
      "source": [
        "torch.rand(2, 3)  # two rows and three columns"
      ],
      "metadata": {
        "colab": {
          "base_uri": "https://localhost:8080/"
        },
        "id": "KILeVQsDjslO",
        "outputId": "71866a66-d71d-4d1e-85ec-62bdc5459440"
      },
      "execution_count": 75,
      "outputs": [
        {
          "output_type": "execute_result",
          "data": {
            "text/plain": [
              "tensor([[0.4177, 0.8038, 0.0186],\n",
              "        [0.8043, 0.4429, 0.5728]])"
            ]
          },
          "metadata": {},
          "execution_count": 75
        }
      ]
    },
    {
      "cell_type": "code",
      "source": [
        "torch.rand(3, 3)  # 3 rows and 3 columns, random numbers each time, but how to share"
      ],
      "metadata": {
        "colab": {
          "base_uri": "https://localhost:8080/"
        },
        "id": "ZGqdHOwIjTNI",
        "outputId": "166f8b06-4177-4f5d-9299-bde767fbb084"
      },
      "execution_count": 76,
      "outputs": [
        {
          "output_type": "execute_result",
          "data": {
            "text/plain": [
              "tensor([[0.0229, 0.2974, 0.8495],\n",
              "        [0.7577, 0.6082, 0.9744],\n",
              "        [0.9278, 0.9874, 0.3397]])"
            ]
          },
          "metadata": {},
          "execution_count": 76
        }
      ]
    },
    {
      "cell_type": "code",
      "source": [
        "import torch\n",
        "# create two random tensors\n",
        "random_tensor_A = torch.rand(3, 4)\n",
        "random_tensor_B = torch.rand(3, 4)\n",
        "print(random_tensor_A)\n",
        "print(random_tensor_B)\n",
        "print(random_tensor_A == random_tensor_B)"
      ],
      "metadata": {
        "colab": {
          "base_uri": "https://localhost:8080/"
        },
        "id": "cz8Gp6iRkMSk",
        "outputId": "8a12f92b-04af-42b7-9f0e-ed6a142fe7f5"
      },
      "execution_count": 79,
      "outputs": [
        {
          "output_type": "stream",
          "name": "stdout",
          "text": [
            "tensor([[0.1931, 0.9093, 0.2882, 0.4254],\n",
            "        [0.3748, 0.5379, 0.3931, 0.2704],\n",
            "        [0.6702, 0.3147, 0.9710, 0.0931]])\n",
            "tensor([[0.2924, 0.4091, 0.9240, 0.7209],\n",
            "        [0.5694, 0.0211, 0.0451, 0.8158],\n",
            "        [0.3674, 0.5675, 0.3561, 0.0737]])\n",
            "tensor([[False, False, False, False],\n",
            "        [False, False, False, False],\n",
            "        [False, False, False, False]])\n"
          ]
        }
      ]
    },
    {
      "cell_type": "code",
      "source": [
        "# make some random but reproducable tensors\n",
        "import torch\n",
        "\n",
        "# set the random seed\n",
        "RANDOM_SEED = 42  # set to what ever you want\n",
        "torch.manual_seed(RANDOM_SEED)  # need to set seed before creating each tensor\n",
        "random_tensor_C = torch.rand(3, 4)\n",
        "\n",
        "torch.manual_seed(RANDOM_SEED)\n",
        "random_tensor_D = torch.rand(3, 4)\n",
        "\n",
        "print(random_tensor_C)\n",
        "print(random_tensor_D)\n",
        "print(random_tensor_C == random_tensor_D)"
      ],
      "metadata": {
        "colab": {
          "base_uri": "https://localhost:8080/"
        },
        "id": "ZhfAmk7SleoK",
        "outputId": "a9353f89-0606-4225-8254-fc1c9d02db7f"
      },
      "execution_count": 81,
      "outputs": [
        {
          "output_type": "stream",
          "name": "stdout",
          "text": [
            "tensor([[0.8823, 0.9150, 0.3829, 0.9593],\n",
            "        [0.3904, 0.6009, 0.2566, 0.7936],\n",
            "        [0.9408, 0.1332, 0.9346, 0.5936]])\n",
            "tensor([[0.8823, 0.9150, 0.3829, 0.9593],\n",
            "        [0.3904, 0.6009, 0.2566, 0.7936],\n",
            "        [0.9408, 0.1332, 0.9346, 0.5936]])\n",
            "tensor([[True, True, True, True],\n",
            "        [True, True, True, True],\n",
            "        [True, True, True, True]])\n"
          ]
        }
      ]
    },
    {
      "cell_type": "markdown",
      "source": [
        "Extra resource for reproducability\n",
        "* https://pytorch.org/docs/stable/notes/randomness.html\n",
        "* https://en.wikipedia.org/wiki/Random_seed"
      ],
      "metadata": {
        "id": "9QmlwqI3nUfB"
      }
    },
    {
      "cell_type": "markdown",
      "source": [
        "## Running tensors and PyTorch objects on the GPUs (and making faster computations)\n",
        "\n",
        "GPUs = faster computation on numbers, thanks to CUDA + NVIDIA hardware + PyTorch working behind the scenes tomake everything work\n",
        "\n",
        "Easiest = Use Google Colab for a free GPU (options to upgrade as well)\n",
        "* Use your own GPU - takes a bit of setup and requires purchasing a GPU, there's lot's of options.\n",
        "\n",
        "* Use cloud computing, GCP, AWS, Azure, these services allow to rent a computer on the cloud and access them\n",
        "* https://timdettmers.com/2023/01/30/which-gpu-for-deep-learning/\n",
        "\n",
        "For 2, 3, PyTorch + GPU drivers (CUDA) refer to PyTorch setting up\n",
        "* https://pytorch.org/get-started/locally/\n",
        "\n",
        "\n"
      ],
      "metadata": {
        "id": "-3TfY3lhooKa"
      }
    },
    {
      "cell_type": "code",
      "source": [
        "# 1. Getting the GPU\n",
        "# change the runtime type\n",
        "!nvidia-smi\n",
        "\n"
      ],
      "metadata": {
        "id": "IJNQl_reofhg",
        "colab": {
          "base_uri": "https://localhost:8080/"
        },
        "outputId": "e6f0a856-1ad7-4866-b94d-1ef7589f78bc"
      },
      "execution_count": 1,
      "outputs": [
        {
          "output_type": "stream",
          "name": "stdout",
          "text": [
            "Sat Apr 27 17:50:00 2024       \n",
            "+---------------------------------------------------------------------------------------+\n",
            "| NVIDIA-SMI 535.104.05             Driver Version: 535.104.05   CUDA Version: 12.2     |\n",
            "|-----------------------------------------+----------------------+----------------------+\n",
            "| GPU  Name                 Persistence-M | Bus-Id        Disp.A | Volatile Uncorr. ECC |\n",
            "| Fan  Temp   Perf          Pwr:Usage/Cap |         Memory-Usage | GPU-Util  Compute M. |\n",
            "|                                         |                      |               MIG M. |\n",
            "|=========================================+======================+======================|\n",
            "|   0  Tesla T4                       Off | 00000000:00:04.0 Off |                    0 |\n",
            "| N/A   39C    P8               9W /  70W |      0MiB / 15360MiB |      0%      Default |\n",
            "|                                         |                      |                  N/A |\n",
            "+-----------------------------------------+----------------------+----------------------+\n",
            "                                                                                         \n",
            "+---------------------------------------------------------------------------------------+\n",
            "| Processes:                                                                            |\n",
            "|  GPU   GI   CI        PID   Type   Process name                            GPU Memory |\n",
            "|        ID   ID                                                             Usage      |\n",
            "|=======================================================================================|\n",
            "|  No running processes found                                                           |\n",
            "+---------------------------------------------------------------------------------------+\n"
          ]
        }
      ]
    },
    {
      "cell_type": "code",
      "source": [
        "# check gpu access with PyTorch\n",
        "import torch\n",
        "\n",
        "torch.cuda.is_available()\n"
      ],
      "metadata": {
        "colab": {
          "base_uri": "https://localhost:8080/"
        },
        "id": "wacxkDwzrbzF",
        "outputId": "6e1bc83e-f5bf-458a-c9e3-94e1eb1da914"
      },
      "execution_count": 2,
      "outputs": [
        {
          "output_type": "execute_result",
          "data": {
            "text/plain": [
              "True"
            ]
          },
          "metadata": {},
          "execution_count": 2
        }
      ]
    },
    {
      "cell_type": "code",
      "source": [
        "# setup device aganotic code\n",
        "# use it if is available, set the device variable\n",
        "device = \"cuda\" if torch.cuda.is_available() else \"cpu\"\n",
        "device"
      ],
      "metadata": {
        "colab": {
          "base_uri": "https://localhost:8080/",
          "height": 35
        },
        "id": "FzYx24HRr6FQ",
        "outputId": "a1999410-6df9-451c-9833-8c48462befea"
      },
      "execution_count": 3,
      "outputs": [
        {
          "output_type": "execute_result",
          "data": {
            "text/plain": [
              "'cuda'"
            ],
            "application/vnd.google.colaboratory.intrinsic+json": {
              "type": "string"
            }
          },
          "metadata": {},
          "execution_count": 3
        }
      ]
    },
    {
      "cell_type": "code",
      "source": [
        "# Count the number of GPUs\n",
        "torch.cuda.device_count()"
      ],
      "metadata": {
        "colab": {
          "base_uri": "https://localhost:8080/"
        },
        "id": "WsnGQLDPsTIC",
        "outputId": "873c82bd-282b-48ab-e9b9-706ce173b6d3"
      },
      "execution_count": 4,
      "outputs": [
        {
          "output_type": "execute_result",
          "data": {
            "text/plain": [
              "1"
            ]
          },
          "metadata": {},
          "execution_count": 4
        }
      ]
    },
    {
      "cell_type": "markdown",
      "source": [
        "### PyTorch Agnostic Code\n",
        "* https://pytorch.org/docs/stable/notes/cuda.html"
      ],
      "metadata": {
        "id": "MfbPrYpasmZl"
      }
    },
    {
      "cell_type": "markdown",
      "source": [
        "## Putting tensors and models in the GPU\n",
        "\n",
        "The reason we want our models on the GPU is because using the GPU results in faster computations.\n",
        "\n"
      ],
      "metadata": {
        "id": "rhb7BQQ3tPit"
      }
    },
    {
      "cell_type": "code",
      "source": [
        "# Create a tensor (default is on the cpu)\n",
        "tensor = torch.tensor([1, 2, 3], device=\"cpu\") # 0 dimensions with 1 item 1 row and 3 columns\n",
        "print(tensor, tensor.device)\n"
      ],
      "metadata": {
        "colab": {
          "base_uri": "https://localhost:8080/"
        },
        "id": "iWoGw66GsbUb",
        "outputId": "bd05997c-ba27-4518-833d-445fe8fe768e"
      },
      "execution_count": 8,
      "outputs": [
        {
          "output_type": "stream",
          "name": "stdout",
          "text": [
            "tensor([1, 2, 3]) cpu\n"
          ]
        }
      ]
    },
    {
      "cell_type": "code",
      "source": [
        "# move tensor to gpu (if available)\n",
        "tensor_on_gpu = tensor.to(device)\n",
        "tensor_on_gpu"
      ],
      "metadata": {
        "colab": {
          "base_uri": "https://localhost:8080/"
        },
        "id": "g30wpfPKujfw",
        "outputId": "ef25e384-5c86-4eff-df91-99394394fb54"
      },
      "execution_count": 9,
      "outputs": [
        {
          "output_type": "execute_result",
          "data": {
            "text/plain": [
              "tensor([1, 2, 3], device='cuda:0')"
            ]
          },
          "metadata": {},
          "execution_count": 9
        }
      ]
    },
    {
      "cell_type": "markdown",
      "source": [
        "### moving tensors back to the cpu\n"
      ],
      "metadata": {
        "id": "eQ6zEFnfvIM8"
      }
    },
    {
      "cell_type": "code",
      "source": [
        "# if tensor is on gpu, can't transform it to numpy\n",
        "# tensor_on_gpu.numpy()  # fails becaus numpy needs to on cpu\n",
        "tensor_on_cpu = tensor.cpu().numpy()\n",
        "tensor_on_cpu"
      ],
      "metadata": {
        "colab": {
          "base_uri": "https://localhost:8080/"
        },
        "id": "M_rYiyCOvG0g",
        "outputId": "b058fbc7-e812-4162-e932-69dc46d99230"
      },
      "execution_count": 15,
      "outputs": [
        {
          "output_type": "execute_result",
          "data": {
            "text/plain": [
              "array([1, 2, 3])"
            ]
          },
          "metadata": {},
          "execution_count": 15
        }
      ]
    },
    {
      "cell_type": "code",
      "source": [
        "tensor_on_gpu"
      ],
      "metadata": {
        "colab": {
          "base_uri": "https://localhost:8080/"
        },
        "id": "vGV0vaWwwMuV",
        "outputId": "cda14204-acb1-4a53-f2f7-25424aaa09d6"
      },
      "execution_count": 16,
      "outputs": [
        {
          "output_type": "execute_result",
          "data": {
            "text/plain": [
              "tensor([1, 2, 3], device='cuda:0')"
            ]
          },
          "metadata": {},
          "execution_count": 16
        }
      ]
    }
  ]
}